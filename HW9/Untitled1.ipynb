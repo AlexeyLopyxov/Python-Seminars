{
  "cells": [
    {
      "cell_type": "code",
      "execution_count": 1,
      "metadata": {
        "id": "whujtfa0T9tc"
      },
      "outputs": [],
      "source": [
        "import pandas as pd"
      ]
    },
    {
      "cell_type": "code",
      "execution_count": 2,
      "metadata": {
        "id": "AmnG6BzQUAyC"
      },
      "outputs": [],
      "source": [
        "# читаем\n",
        "df = pd.read_csv('sample_data/california_housing_train.csv')"
      ]
    },
    {
      "cell_type": "markdown",
      "metadata": {
        "id": "VQgRik5iUz9H"
      },
      "source": [
        "***Задача 40***\n",
        "\n",
        "Средняя стоимость дома, где кол-во людей от 0 до 500"
      ]
    },
    {
      "cell_type": "code",
      "execution_count": 3,
      "metadata": {
        "colab": {
          "base_uri": "https://localhost:8080/"
        },
        "id": "N1LEJDttUJcn",
        "outputId": "f3abcaff-2afd-4cd9-911c-acbd26216cc4"
      },
      "outputs": [
        {
          "data": {
            "text/plain": [
              "2         85700.0\n",
              "7         48500.0\n",
              "17        25000.0\n",
              "19        27500.0\n",
              "21        59200.0\n",
              "           ...   \n",
              "16944    130600.0\n",
              "16951     67500.0\n",
              "16969     60000.0\n",
              "16982    107000.0\n",
              "16994     76100.0\n",
              "Name: median_house_value, Length: 1601, dtype: float64"
            ]
          },
          "execution_count": 3,
          "metadata": {},
          "output_type": "execute_result"
        }
      ],
      "source": [
        "df[df['population'] < 500]['median_house_value']"
      ]
    },
    {
      "cell_type": "code",
      "execution_count": 4,
      "metadata": {
        "colab": {
          "base_uri": "https://localhost:8080/"
        },
        "id": "ZJZiN3MmUK3K",
        "outputId": "cea2c2de-758f-436d-9607-36178beb89c2"
      },
      "outputs": [
        {
          "name": "stdout",
          "output_type": "stream",
          "text": [
            "206683.83635227982\n"
          ]
        }
      ],
      "source": [
        "print(df[df['population'] < 500]['median_house_value'].mean())"
      ]
    },
    {
      "cell_type": "markdown",
      "metadata": {
        "id": "rI4q1rPVVCvY"
      },
      "source": [
        "***Задача 42***\n",
        "\n",
        "Максимальная housholds в зоне минимального population "
      ]
    },
    {
      "cell_type": "code",
      "execution_count": 11,
      "metadata": {
        "colab": {
          "base_uri": "https://localhost:8080/"
        },
        "id": "ZMf9_VA0UjBB",
        "outputId": "2ac6797b-a6a6-4e5e-caa2-2b83ccc9fc67"
      },
      "outputs": [
        {
          "name": "stdout",
          "output_type": "stream",
          "text": [
            "3.0\n"
          ]
        }
      ],
      "source": [
        "print(df['population'].min())"
      ]
    },
    {
      "cell_type": "code",
      "execution_count": 58,
      "metadata": {
        "colab": {
          "base_uri": "https://localhost:8080/"
        },
        "id": "NYxP1RedexJU",
        "outputId": "f2c9249a-e78b-43a0-e960-fb3ef67f5f9a"
      },
      "outputs": [
        {
          "data": {
            "text/plain": [
              "4.0"
            ]
          },
          "execution_count": 58,
          "metadata": {},
          "output_type": "execute_result"
        }
      ],
      "source": [
        "print(df[df['population'] == df['population'].min()]['households'].max())"
      ]
    }
  ],
  "metadata": {
    "colab": {
      "provenance": []
    },
    "kernelspec": {
      "display_name": "Python 3",
      "name": "python3"
    },
    "language_info": {
      "name": "python"
    }
  },
  "nbformat": 4,
  "nbformat_minor": 0
}
